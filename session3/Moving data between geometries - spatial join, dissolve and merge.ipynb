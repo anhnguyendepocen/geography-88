{
 "cells": [
  {
   "cell_type": "code",
   "execution_count": null,
   "metadata": {
    "collapsed": false
   },
   "outputs": [],
   "source": [
    "%matplotlib inline\n",
    "\n",
    "import matplotlib\n",
    "import numpy as np\n",
    "import matplotlib.pyplot as plt\n",
    "\n",
    "import shapely\n",
    "import geopandas as gpd\n",
    "\n",
    "import quickplot as qp"
   ]
  },
  {
   "cell_type": "markdown",
   "metadata": {},
   "source": [
    "# Examples of moving data between geometries in `geopandas`\n",
    "An important operation that is available when we work with geospatial data, which is unavailable with any old 'ordinary' data is a **spatial join**. This is where we use the spatial relationships between two data sets to associate attributes from one dataset with the geometries of another. \n",
    "\n",
    "In hexbinning, we have already seen a specific example of this, where we *count* the point geometries in a dataset dataset contained by the polygons (i.e., hexagons) of another, and associate those counts with the polygons.\n",
    "\n",
    "This kind of operation can be translated to other kinds of spatial relationship, and makes uses of the **geopandas** [**`sjoin`**](http://geopandas.org/mergingdata.html#spatial-joins), [**`overlay`**](http://geopandas.org/set_operations.html) or [**`merge`**](http://geopandas.org/mergingdata.html) function, depending on the exact situation. We will look at this in the next few cells of this notebook.\n",
    "\n",
    "Given the introductory nature of this class, we won't delve into any of these in great detail, partly for lack of time, and partly because things get complicated fast.\n",
    "\n",
    "OK... Let's read in some datasets."
   ]
  },
  {
   "cell_type": "code",
   "execution_count": null,
   "metadata": {
    "collapsed": false
   },
   "outputs": [],
   "source": [
    "ca = gpd.read_file('ca-counties-LL.shp')\n",
    "ufos = gpd.read_file('ufos-2014.geojson')\n",
    "routes = gpd.read_file('routes.shp')"
   ]
  },
  {
   "cell_type": "markdown",
   "metadata": {},
   "source": [
    "We are only interested here in California (because *California*), so let's use a simple spatial operation to trim the UFOs data down to size.  Make a whole of California polygon by [**dissolve**](http://geopandas.org/aggregation_with_dissolve.html).  Dissolve is a key operation in geospatial analysis, that allows us to combine multiple geometries into a smaller number of geometries, based on shared attributes.  In this case, we want a single state polygon, so we use the **STATE** attributue of the California counties, which will dissolve them all into one larger polygon."
   ]
  },
  {
   "cell_type": "code",
   "execution_count": null,
   "metadata": {
    "collapsed": false
   },
   "outputs": [],
   "source": [
    "ca_poly = ca.dissolve(by='STATE', as_index=False).geometry[0]\n",
    "ca_poly"
   ]
  },
  {
   "cell_type": "markdown",
   "metadata": {},
   "source": [
    "We'll see `dissolve()` again later this week, where we can control how the data associated with each polygon are combined in the new polygon.  For now, we can use this polygon to select only the UFO sitings **within** California."
   ]
  },
  {
   "cell_type": "code",
   "execution_count": null,
   "metadata": {
    "collapsed": false
   },
   "outputs": [],
   "source": [
    "ufo_ca = ufos[ufos.geometry.within(ca_poly)]\n",
    "qp.quickplot(ufo_ca)"
   ]
  },
  {
   "cell_type": "markdown",
   "metadata": {},
   "source": [
    "Next before we can proceed, recalling the importance of projections, we need to check out the coordinate reference systems."
   ]
  },
  {
   "cell_type": "code",
   "execution_count": null,
   "metadata": {
    "collapsed": false
   },
   "outputs": [],
   "source": [
    "ca.crs, ufo_ca.crs, routes.crs"
   ]
  },
  {
   "cell_type": "markdown",
   "metadata": {},
   "source": [
    "They are not all the same, so we should make the county and UFO data sets match the projection of the other one, if we are to overlay them successfully (the projection in that case is *California Albers Equal-Area*."
   ]
  },
  {
   "cell_type": "code",
   "execution_count": null,
   "metadata": {
    "collapsed": false
   },
   "outputs": [],
   "source": [
    "ca = ca.to_crs(routes.crs)\n",
    "ufo_ca = ufo_ca.to_crs(routes.crs)"
   ]
  },
  {
   "cell_type": "markdown",
   "metadata": {},
   "source": [
    "Now we've done all that we can make a map of all these layers on top of one another."
   ]
  },
  {
   "cell_type": "code",
   "execution_count": null,
   "metadata": {
    "collapsed": false
   },
   "outputs": [],
   "source": [
    "fig = plt.figure(figsize=(8,12))\n",
    "ax = plt.subplot(111)\n",
    "ax.set_aspect('equal')\n",
    "qp.quickplot(ca, facecolor='lightgrey', edgecolor='darkgrey', linewidth=0.65)\n",
    "qp.quickplot(routes, edgecolor='magenta', linewidth=0.5)\n",
    "qp.quickplot(ufo_ca, color='green')"
   ]
  },
  {
   "cell_type": "markdown",
   "metadata": {},
   "source": [
    "## Spatial join\n",
    "First up, imagine we want to count the numbers of UFO sitings in each California county. To do this we want to first perform a **spatial join** between the county and the UFO data. The code for this is simple enough, although there are a variety of options as discussed in the documentation at [**`sjoin`**](http://geopandas.org/mergingdata.html#spatial-joins)."
   ]
  },
  {
   "cell_type": "code",
   "execution_count": null,
   "metadata": {
    "collapsed": false
   },
   "outputs": [],
   "source": [
    "county_ufo = gpd.sjoin(ca, ufo_ca)\n",
    "county_ufo"
   ]
  },
  {
   "cell_type": "markdown",
   "metadata": {},
   "source": [
    "The result is a `GeoDataFrame` that has multiple copies of each county (note the NAME and geometry columns), with each row of the table containing the data for both the county *and* the siting, for the county within which the siting took place.  We could actually do this the other way around:"
   ]
  },
  {
   "cell_type": "code",
   "execution_count": null,
   "metadata": {
    "collapsed": false
   },
   "outputs": [],
   "source": [
    "ufo_county = gpd.sjoin(ufo_ca, ca)\n",
    "ufo_county"
   ]
  },
  {
   "cell_type": "markdown",
   "metadata": {},
   "source": [
    "This time around we have a record for each UFO siting (note the geometries are POINTs this time) and attached to each siting are the demographic data from the counties in question.  Note how both tables contain 191 rows (because there are 191 sitings).  A similar approach for each of these data tables will get us to our end goal of the number of sitings in each county, if we again use the `dissolve` function, specifying that we want to **sum** any variables that get dissolved together, this will mean that the **cases** column which is set to 1 for all UFO sitings, will get added together to tell us how many sitings occurred in each county."
   ]
  },
  {
   "cell_type": "code",
   "execution_count": null,
   "metadata": {
    "collapsed": false
   },
   "outputs": [],
   "source": [
    "county_ufo_counts = county_ufo.dissolve(by='NAME', aggfunc='sum', as_index=False)\n",
    "county_ufo_counts.head()"
   ]
  },
  {
   "cell_type": "markdown",
   "metadata": {},
   "source": [
    "Notice that `geopandas` knows nothing about the meaning of each column, so it has dumbly summed the demographic variables turning them into nonsense.  Since we only need the counties and the cases count variable, let's throw everything else away."
   ]
  },
  {
   "cell_type": "code",
   "execution_count": null,
   "metadata": {
    "collapsed": false
   },
   "outputs": [],
   "source": [
    "county_ufo_counts = county_ufo_counts[['NAME', 'cases']]\n",
    "county_ufo_counts.head()"
   ]
  },
  {
   "cell_type": "markdown",
   "metadata": {},
   "source": [
    "For the other joined dataset the same procedure will work:"
   ]
  },
  {
   "cell_type": "code",
   "execution_count": null,
   "metadata": {
    "collapsed": false
   },
   "outputs": [],
   "source": [
    "ufo_county_counts = ufo_county.dissolve(by='NAME', aggfunc='sum', as_index=False)[['NAME', 'cases']]\n",
    "ufo_county_counts.head()"
   ]
  },
  {
   "cell_type": "markdown",
   "metadata": {},
   "source": [
    "## Merging datasets\n",
    "\n",
    "If we want to make a map of this, we now need to **merge** these results back into our original counties dataset.  This takes a few more steps, and is annoying fiddly."
   ]
  },
  {
   "cell_type": "code",
   "execution_count": null,
   "metadata": {
    "collapsed": false
   },
   "outputs": [],
   "source": [
    "## Merge the counts into the county dataset on the NAME variable, retaining only the geometry\n",
    "## the NAME, the cases, and nPop\n",
    "ufos_by_county = ca.merge(county_ufo_counts, on='NAME', how='left')[['geometry', 'NAME', 'cases', 'nPop']]\n",
    "ufos_by_county.head()"
   ]
  },
  {
   "cell_type": "code",
   "execution_count": null,
   "metadata": {
    "collapsed": false
   },
   "outputs": [],
   "source": [
    "## Some counties will have null values (WHY?) which we have to replace with 0's\n",
    "ufos_by_county = ufos_by_county.fillna(0)\n",
    "## Calculate a sitings per 10,000 population\n",
    "ufos_by_county['ufos_pop'] = ufos_by_county.cases / ufos_by_county.nPop * 10000\n",
    "\n",
    "fig = plt.figure(figsize=(12,9))\n",
    "ax = plt.subplot(121)\n",
    "ax.set_aspect('equal')\n",
    "ax.set_title('UFO sitings')\n",
    "qp.quickplot(ufos_by_county, column='cases', cmap='Reds', linewidth=0.2, edgecolor='k')\n",
    "\n",
    "ax = plt.subplot(122)\n",
    "ax.set_aspect('equal')\n",
    "ax.set_title('UFO sitings per capita')\n",
    "qp.quickplot(ufos_by_county, column='ufos_pop', cmap='Reds', linewidth=0.2, edgecolor='k')"
   ]
  },
  {
   "cell_type": "markdown",
   "metadata": {},
   "source": [
    "## Joining lines and polygons\n",
    "Let's see what happens if we join polygons and lines."
   ]
  },
  {
   "cell_type": "code",
   "execution_count": null,
   "metadata": {
    "collapsed": false
   },
   "outputs": [],
   "source": [
    "county_roads = gpd.sjoin(ca, routes)\n",
    "county_roads.head()"
   ]
  },
  {
   "cell_type": "markdown",
   "metadata": {
    "collapsed": false
   },
   "source": [
    "This time around we might want to summarize the total length of roads in each county.  Try adding some cells below and making that dataset..."
   ]
  },
  {
   "cell_type": "code",
   "execution_count": null,
   "metadata": {
    "collapsed": false
   },
   "outputs": [],
   "source": [
    "## WRITE SOME CODE TO DISSOLVE THE county_roads data and determine \n",
    "## total length of roads in each county"
   ]
  },
  {
   "cell_type": "code",
   "execution_count": null,
   "metadata": {
    "collapsed": false
   },
   "outputs": [],
   "source": [
    "## ONCE YOU'VE DONE THAT, try merging the results into our \n",
    "## ufos_by_county dataset to determine ufo sitings per km of road"
   ]
  },
  {
   "cell_type": "code",
   "execution_count": null,
   "metadata": {
    "collapsed": true
   },
   "outputs": [],
   "source": []
  }
 ],
 "metadata": {
  "kernelspec": {
   "display_name": "Python 3",
   "language": "python",
   "name": "python3"
  },
  "language_info": {
   "codemirror_mode": {
    "name": "ipython",
    "version": 3
   },
   "file_extension": ".py",
   "mimetype": "text/x-python",
   "name": "python",
   "nbconvert_exporter": "python",
   "pygments_lexer": "ipython3",
   "version": "3.6.0"
  }
 },
 "nbformat": 4,
 "nbformat_minor": 2
}

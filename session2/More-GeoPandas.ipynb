{
 "cells": [
  {
   "cell_type": "code",
   "execution_count": null,
   "metadata": {
    "collapsed": false
   },
   "outputs": [],
   "source": [
    "plt.figure(figsize=(12,6))\n",
    "ax = plt.subplot(121)\n",
    "plot_polygons(ax, election.geometry)\n",
    "\n",
    "election_ea = election.to_crs(epsg=5070)\n",
    "ax = plt.subplot(122)\n",
    "plot_polygons(ax, election_ea.geometry)"
   ]
  },
  {
   "cell_type": "code",
   "execution_count": null,
   "metadata": {
    "collapsed": false
   },
   "outputs": [],
   "source": [
    "election48 = election_ea[~election_ea['state'].isin(['AK', 'HI'])]\n",
    "election48.to_file('election-counties-48.geojson', driver='GeoJSON')\n",
    "election48 = gp.read_file('election-counties-48.geojson')"
   ]
  },
  {
   "cell_type": "code",
   "execution_count": null,
   "metadata": {
    "collapsed": false
   },
   "outputs": [],
   "source": [
    "plt.figure(figsize=(16,8))\n",
    "ax = plt.subplot(121)\n",
    "ax.set_title('Democratic votes')\n",
    "plot_polygons(ax, election48.geometry, values=election48.dem, colormap=\"Blues\")\n",
    "ax = plt.subplot(122)\n",
    "ax.set_title('Republican votes')\n",
    "plot_polygons(ax, election48.geometry, values=election48.gop, colormap=\"Reds\")"
   ]
  },
  {
   "cell_type": "code",
   "execution_count": null,
   "metadata": {
    "collapsed": false
   },
   "outputs": [],
   "source": [
    "election48['votes'] = election48.dem + election48.gop + election48.grn + election48.lib + election48.una + election48.oth\n",
    "election48['goppc'] = election48.gop / election48.votes * 100\n",
    "election48['dempc'] = election48.dem / election48.votes * 100"
   ]
  },
  {
   "cell_type": "code",
   "execution_count": null,
   "metadata": {
    "collapsed": false
   },
   "outputs": [],
   "source": [
    "plt.figure(figsize=(12,9))\n",
    "ax = plt.subplot(111)\n",
    "ax.set_title('Republican share of votes')\n",
    "plot_polygons(ax, election48.geometry, values=election48.goppc, colormap=\"RdBu_r\")"
   ]
  },
  {
   "cell_type": "code",
   "execution_count": null,
   "metadata": {
    "collapsed": false
   },
   "outputs": [],
   "source": [
    "states = election_ea.dissolve(by='state', aggfunc='sum', as_index=False)\n",
    "states['votes'] = states.dem + states.gop + states.grn + states.lib + states.una + states.oth\n",
    "states['dempc'] = states.dem / states.votes\n",
    "states['goppc'] = states.gop / states.votes"
   ]
  },
  {
   "cell_type": "code",
   "execution_count": null,
   "metadata": {
    "collapsed": false
   },
   "outputs": [],
   "source": [
    "states.head()"
   ]
  },
  {
   "cell_type": "code",
   "execution_count": null,
   "metadata": {
    "collapsed": false
   },
   "outputs": [],
   "source": [
    "states.plot(column=\"goppc\", cmap=\"Reds\", figsize=(12,6), linewidth=0.1)"
   ]
  },
  {
   "cell_type": "code",
   "execution_count": null,
   "metadata": {
    "collapsed": false
   },
   "outputs": [],
   "source": [
    "def get_max_idx(L):\n",
    "    max_i = 0\n",
    "    for i in range(len(L)):\n",
    "        if L[i] >= L[max_i]:\n",
    "            max_i = i\n",
    "    return max_i\n",
    "\n",
    "def remove_i(L, i):\n",
    "    return L[:i] + L[i+1:]\n",
    "\n",
    "def insert_i(L, i, x):\n",
    "    return L[:i] + [x] + L[i:]\n",
    "\n",
    "def apportion(pops, states, seats_to_assign=435, initial=1, extras=2, exclude='DC'):\n",
    "    pops = list(pops)\n",
    "    states = list(states)\n",
    "    assigned = [initial] * len(pops)\n",
    "    ex = states.index(exclude)\n",
    "    assigned = remove_i(assigned, ex)\n",
    "    pops = remove_i(pops, ex)\n",
    "    remaining = seats_to_assign - sum(assigned)\n",
    "    while remaining > 0:\n",
    "        priorities = [p / np.sqrt(a * (a + 1)) for p, a in zip(pops, assigned)]\n",
    "        max_priority = get_max_idx(priorities)\n",
    "        assigned[max_priority] += 1\n",
    "        remaining -= 1\n",
    "    assigned = insert_i(assigned, ex, 1)\n",
    "    assigned = [__ + 2 for __ in assigned]\n",
    "    return assigned"
   ]
  },
  {
   "cell_type": "code",
   "execution_count": null,
   "metadata": {
    "collapsed": false
   },
   "outputs": [],
   "source": [
    "states['ev'] = apportion(states.population, states.state)\n",
    "states.head()"
   ]
  },
  {
   "cell_type": "code",
   "execution_count": null,
   "metadata": {
    "collapsed": false
   },
   "outputs": [],
   "source": [
    "import pysal as ps\n",
    "ps.version\n",
    "neighbors = ps.weights.Contiguity.Rook.from_dataframe(election_ea)"
   ]
  },
  {
   "cell_type": "code",
   "execution_count": null,
   "metadata": {
    "collapsed": false
   },
   "outputs": [],
   "source": [
    "neighbors[0]"
   ]
  },
  {
   "cell_type": "code",
   "execution_count": null,
   "metadata": {
    "collapsed": false
   },
   "outputs": [],
   "source": [
    "nss = []\n",
    "for i, Ni in neighbors: \n",
    "    Ns = {}\n",
    "    for j, w in Ni.items():\n",
    "        Ns[j] = election_ea.state[j]\n",
    "    nss.append((i, election_ea.state[i], Ns))\n",
    "nss[:5]"
   ]
  },
  {
   "cell_type": "code",
   "execution_count": null,
   "metadata": {
    "collapsed": false
   },
   "outputs": [],
   "source": [
    "boundary_pairs = []\n",
    "boundary_cases = set()\n",
    "for Ni in nss:\n",
    "    i, i_s, Nj = Ni[0], Ni[1], Ni[2]\n",
    "    for j, j_s in Nj.items():\n",
    "        if i_s != j_s:\n",
    "            boundary_pairs.append((i, j))\n",
    "            boundary_cases = boundary_cases.union([i, j])\n"
   ]
  },
  {
   "cell_type": "code",
   "execution_count": null,
   "metadata": {
    "collapsed": false
   },
   "outputs": [],
   "source": [
    "election['boundary'] = election.index.isin(boundary_cases)"
   ]
  },
  {
   "cell_type": "code",
   "execution_count": null,
   "metadata": {
    "collapsed": false
   },
   "outputs": [],
   "source": [
    "fig, ax = plt.subplots(figsize=(12,9))\n",
    "ax.set_aspect('equal')\n",
    "plot_polygons(ax=ax, geoms=election_ea.geometry)\n",
    "plot_polygons(ax=ax, geoms=election_ea.geometry[np.where(election_ea.boundary)], facecolor='white')"
   ]
  },
  {
   "cell_type": "code",
   "execution_count": null,
   "metadata": {
    "collapsed": true
   },
   "outputs": [],
   "source": []
  }
 ],
 "metadata": {
  "kernelspec": {
   "display_name": "Python 3",
   "language": "python",
   "name": "python3"
  },
  "language_info": {
   "codemirror_mode": {
    "name": "ipython",
    "version": 3
   },
   "file_extension": ".py",
   "mimetype": "text/x-python",
   "name": "python",
   "nbconvert_exporter": "python",
   "pygments_lexer": "ipython3",
   "version": "3.6.0"
  }
 },
 "nbformat": 4,
 "nbformat_minor": 2
}

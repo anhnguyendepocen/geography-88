{
 "cells": [
  {
   "cell_type": "code",
   "execution_count": null,
   "metadata": {
    "collapsed": false
   },
   "outputs": [],
   "source": [
    "%matplotlib inline\n",
    "\n",
    "import matplotlib\n",
    "import matplotlib.pyplot as plt\n",
    "import geopandas as gpd\n",
    "\n",
    "import quickplot as qp"
   ]
  },
  {
   "cell_type": "markdown",
   "metadata": {},
   "source": [
    "# Hexbins and map projection\n",
    "This assignment takes a look at the implications of map projection for a popular visualization technique *hexbinning* when applied to geographical data over large geographical extents.\n",
    "\n",
    "The exercise is inspired by this recent, fun paper, which deserves an award for its great title, if nothing else:\n",
    "\n",
    "Battersby, S. E., D. “daan” Strebe, and M. P. Finn. 2016. [Shapes on a plane: evaluating the impact of projection distortion on spatial binning](http://www.tandfonline.com/doi/full/10.1080/15230406.2016.1180263). Cartography and Geographic Information Science :1–12."
   ]
  },
  {
   "cell_type": "markdown",
   "metadata": {},
   "source": [
    "## Serious business: earthquakes and UFOs\n",
    "Before getting started, let's load the datasets we will work with.  Don't worry, this isn't going to be about showing how earthquakes cause UFOs, although... you might end up wondering if UFOs cause voting Democratic.\n",
    "\n",
    "### First up, earthquakes:"
   ]
  },
  {
   "cell_type": "code",
   "execution_count": null,
   "metadata": {
    "collapsed": false
   },
   "outputs": [],
   "source": [
    "quakes = gpd.read_file('earthquakes.geojson')\n",
    "qp.quickplot(quakes, markersize=0.5)"
   ]
  },
  {
   "cell_type": "markdown",
   "metadata": {},
   "source": [
    "These data were obtained from [National Centers for Environmental Information at NOAA](https://www.ngdc.noaa.gov/nndc/struts/form?t=101650&s=1&d=1), and include all earthquakes of intensity 6.8 or greater since 1900.  I cleaned up the raw data a little to remove columns we aren't much interested in, and also passed them through [QGIS](http://www.qgis.org/en/site/) to produce the GeoJSON format file from the raw CSV provided.\n",
    "\n",
    "We will look at only quakes in roughly speaking, Central and South America."
   ]
  },
  {
   "cell_type": "code",
   "execution_count": null,
   "metadata": {
    "collapsed": false
   },
   "outputs": [],
   "source": [
    "quakes.head()"
   ]
  },
  {
   "cell_type": "code",
   "execution_count": null,
   "metadata": {
    "collapsed": false
   },
   "outputs": [],
   "source": [
    "q_CSAM = quakes[(quakes.LONGITUDE > -100) & (quakes.LONGITUDE < -50) & \n",
    "                (quakes.LATITUDE < 15) & (quakes.LATITUDE > -65)]\n",
    "qp.quickplot(q_CSAM, markersize=0.75)"
   ]
  },
  {
   "cell_type": "markdown",
   "metadata": {},
   "source": [
    "Next up, and even more serious... \n",
    "\n",
    "### UFO sitings in the contiguous US in 2014:"
   ]
  },
  {
   "cell_type": "code",
   "execution_count": null,
   "metadata": {
    "collapsed": false
   },
   "outputs": [],
   "source": [
    "ufo_2014 = gpd.read_file('ufos-2014.geojson')\n",
    "ufo_2014.head()"
   ]
  },
  {
   "cell_type": "markdown",
   "metadata": {},
   "source": [
    "These data are collated by the [National UFO Reporting Center](http://nuforc.org/) although the set I downloaded were from this fine web map at [Metrocosm](http://metrocosm.com/ufo-sightings-map.html), and only ran up to mid-2015.  It's a large dataset, so I have restricted it to only sitings in 2014, the last year for which complete data were available in the web map."
   ]
  },
  {
   "cell_type": "code",
   "execution_count": null,
   "metadata": {
    "collapsed": false
   },
   "outputs": [],
   "source": [
    "## because UFOs should always be colored green :-)\n",
    "fig = plt.figure(figsize=(10,5))\n",
    "ax = plt.subplot()\n",
    "ax.set_aspect('equal')\n",
    "ax.set_facecolor('#000000')\n",
    "qp.quickplot(ufo_2014, color='#66ff66', markersize=1, alpha=0.75)"
   ]
  },
  {
   "cell_type": "markdown",
   "metadata": {},
   "source": [
    "Finally, we'll want to put these in context, so let's grab that simple world map built into `geopandas` again."
   ]
  },
  {
   "cell_type": "code",
   "execution_count": null,
   "metadata": {
    "collapsed": false
   },
   "outputs": [],
   "source": [
    "world = gpd.read_file(gpd.datasets.get_path('naturalearth_lowres'))\n",
    "qp.quickplot(world)"
   ]
  },
  {
   "cell_type": "markdown",
   "metadata": {},
   "source": [
    "## Making hexbin maps\n",
    "The best way to appreciate what hexbins are is to try them. `pyplot` has a built in hexbin function. Give it a try by running the cell below."
   ]
  },
  {
   "cell_type": "code",
   "execution_count": null,
   "metadata": {
    "collapsed": false
   },
   "outputs": [],
   "source": [
    "import random\n",
    "# make 500 random x,y coordinates\n",
    "x = [random.random() for __ in range(1000)]\n",
    "y = [random.random() for __ in range(1000)]\n",
    "# plot hexbins\n",
    "plt.hexbin(x, y, gridsize=15, cmap='inferno')\n",
    "# put the points on top for reference\n",
    "plt.plot(x, y, 'k.', markersize=2)"
   ]
  },
  {
   "cell_type": "markdown",
   "metadata": {},
   "source": [
    "The idea is that the colored in plot makes it easier to identify 'hotspots' or concentrations in the data.  It is particularly useful with large number of points (try changing the number of points in the cell above).\n",
    "\n",
    "Now, this is fine as far as it goes, but is not ideal if our $(x,y)$ coordinates are actually geographical coordinates, because [reminder] *the Earth is not flat*. The built in hexbin plot doesn't treat the two coordinates as equal (we could use `ax.set_aspect('equal')` to partly fix this [try it, if you like].  But a more insidious difficulty is that geographic coordinates affect the *area* of the hexagons, so that the supposedly unbiased picture of the variations in density of points across the 'map' are not unbiased at all."
   ]
  },
  {
   "cell_type": "markdown",
   "metadata": {},
   "source": [
    "### A geographic hexbin map\n",
    "So... I've written a small 'wrapper' function for the hexbin function (below) which we can use instead.\n",
    "\n",
    "Take a look in the cell below, before running it.  You don't need to understand everything that is happening here, because you are just going to use this function.  But you may find it instructive to look at how a GeoDataFrame is assembled.  In particular, note how we set its CRS from the input point layer CRS.  Also notice how we make an additional 'all hexes' GeoDataFrame using the unary_union.envelope operation.  This is used later to allow us to make a basemap behind hexbin outputs."
   ]
  },
  {
   "cell_type": "code",
   "execution_count": null,
   "metadata": {
    "collapsed": false
   },
   "outputs": [],
   "source": [
    "import shapely.geometry\n",
    "import math\n",
    "\n",
    "# makes a hexbin GeoDataFrame and also an 'all hexbins' GeoDataFrame\n",
    "# from supplied pt layer with the specified nx number of hexes across\n",
    "# the tricky part here is extracting hexagons from the PathCollection\n",
    "# returned by pyplot.hexbin()\n",
    "def get_hexbin_map(pt_layer, nx=50):\n",
    "    # make x, y coordinate pairs from the geometries\n",
    "    xy = [(p.x, p.y) for p in pt_layer.geometry]\n",
    "    x = [__[0] for __ in xy]\n",
    "    y = [__[1] for __ in xy]\n",
    "    \n",
    "    # determine x and y ranges\n",
    "    xmin, xmax = min(x), max(x)\n",
    "    ymin, ymax = min(y), max(y)\n",
    "    x_range = (max(x) - min(x)) * (1 + 1/nx)\n",
    "    y_range = (max(y) - min(y)) * (1 + 1/nx)\n",
    "    xmin, xmax = xmin - x_range / (nx*2), xmax + x_range / (nx*2)\n",
    "    ymin, ymax = ymin - y_range / (nx*2), ymax + y_range / (nx*2)\n",
    "    \n",
    "    # setup the number of hexes in x and y directions\n",
    "    grid_dimensions = (nx, int(nx * y_range / x_range / math.sqrt(3)))\n",
    "    # and the extent\n",
    "    xt = (xmin, xmax, ymin, ymax)\n",
    "    \n",
    "    # use pyplot.hexbin to perform the analysis\n",
    "    # retaining the output, details of which are available at\n",
    "    # http://matplotlib.org/api/pyplot_api.html#matplotlib.pyplot.hexbin\n",
    "    hb = plt.hexbin(x, y, extent=xt, gridsize=grid_dimensions)\n",
    "    \n",
    "    # retrieve the base hexagon as a shapely Polygon from the hexbin results\n",
    "    base_hex = shapely.geometry.polygon.Polygon([xy[0] for xy in hb.get_paths()[0].iter_segments()])\n",
    "    # make the array of hexbins by iterating over the 'offsets'\n",
    "    hex_shapes = [shapely.affinity.translate(base_hex, xoff=dx, yoff=dy) for (dx, dy) in hb.get_offsets()]\n",
    "    # now make a geopandas GeoDataFrame with these as its geometry column\n",
    "    hexes = gpd.GeoDataFrame(geometry=gpd.GeoSeries(hex_shapes))\n",
    "    # also add the counts from the hexbin results\n",
    "    hexes['n'] = list(hb.get_array())\n",
    "    # set the CRS\n",
    "    hexes.crs = pt_layer.crs\n",
    "    \n",
    "    # make an all hexes GeoDataFrame also\n",
    "    hexes_all = gpd.GeoDataFrame(geometry=gpd.GeoSeries(hexes.geometry.unary_union.envelope))\n",
    "    hexes_all.crs = hexes.crs\n",
    "    \n",
    "    # return both\n",
    "    return hexes, hexes_all"
   ]
  },
  {
   "cell_type": "markdown",
   "metadata": {},
   "source": [
    "### Using `get_hexbin_map()`\n",
    "So now let's use this function.\n",
    "\n",
    "Here, you need to pay attention, because you will be asked to do something similar yourself (in fact twice).\n",
    "\n",
    "First, run the function to make hexbins, retaining both the hexbins and the 'all hexbins' as `extent`."
   ]
  },
  {
   "cell_type": "code",
   "execution_count": null,
   "metadata": {
    "collapsed": false
   },
   "outputs": [],
   "source": [
    "hexbins, extent = get_hexbin_map(q_CSAM, nx=10)"
   ]
  },
  {
   "cell_type": "markdown",
   "metadata": {},
   "source": [
    "Don't worry for now about the goofy shape of the output.\n",
    "\n",
    "Next we use `geopandas` overlay operation to make a basemap we can use for our final result."
   ]
  },
  {
   "cell_type": "code",
   "execution_count": null,
   "metadata": {
    "collapsed": false
   },
   "outputs": [],
   "source": [
    "basemap = gpd.overlay(world[world.continent.isin(['North America', 'South America'])], extent, how='intersection')\n",
    "qp.quickplot(basemap)"
   ]
  },
  {
   "cell_type": "markdown",
   "metadata": {},
   "source": [
    "Now, we can put everything together.  \n",
    "\n",
    "Make a figure (so we can specify the size). Add a subplot, give it a title (referencing the projection), and then plot the basemap, and the hexbin results together."
   ]
  },
  {
   "cell_type": "code",
   "execution_count": null,
   "metadata": {
    "collapsed": false
   },
   "outputs": [],
   "source": [
    "fig = plt.figure(figsize=(3,7.5))\n",
    "ax = plt.subplot(111)\n",
    "ax.set_title('WGS84')\n",
    "qp.quickplot(basemap, facecolor='w', alpha=1.0, edgecolor='k', linewidth=0.0)\n",
    "qp.quickplot(hexbins, column='n', cmap='plasma', alpha=0.75)"
   ]
  },
  {
   "cell_type": "markdown",
   "metadata": {},
   "source": [
    "Make sure you understand all of the above. In the two cells below, it is all run at once, first for the earthquakes, then for the UFOs. The earthquakes result looks different because when we run it all in one cell like this `quickplot()` still has access to the `basemap`. [Honestly I am a little unclear why this happens. Don't worry about it too much&mdash;it all works when we put it in a single cell.]"
   ]
  },
  {
   "cell_type": "code",
   "execution_count": null,
   "metadata": {
    "collapsed": false
   },
   "outputs": [],
   "source": [
    "fig = plt.figure(figsize=(3,7.5))\n",
    "\n",
    "hexbins, extent = get_hexbin_map(q_CSAM, nx=10)\n",
    "basemap = gpd.overlay(world[world.continent.isin(['North America', 'South America'])], extent, how='intersection')\n",
    "\n",
    "ax = plt.subplot(111)\n",
    "ax.set_title('WGS84')\n",
    "qp.quickplot(basemap, facecolor='w', alpha=1.0, edgecolor='k', linewidth=0.0)\n",
    "qp.quickplot(hexbins, column='n', cmap='plasma', alpha=0.75)"
   ]
  },
  {
   "cell_type": "code",
   "execution_count": null,
   "metadata": {
    "collapsed": false
   },
   "outputs": [],
   "source": [
    "fig = plt.figure(figsize=(8,4))\n",
    "\n",
    "hexbins, extent = get_hexbin_map(ufo_2014, nx=30)\n",
    "basemap = gpd.overlay(world[world.continent=='North America'], extent, how='intersection')\n",
    "\n",
    "ax = plt.subplot(111)\n",
    "ax.set_title('WGS84')\n",
    "qp.quickplot(basemap, facecolor='w', alpha=1.0, edgecolor='k', linewidth=0.0)\n",
    "qp.quickplot(hexbins, column='n', cmap='plasma', alpha=0.75)"
   ]
  },
  {
   "cell_type": "markdown",
   "metadata": {},
   "source": [
    "# Assignment instructions\n",
    "So... here's what you are required to do.\n",
    "\n",
    "For each of these two cases (the earthquakes and the UFOs) make new hexbin maps, using appropriate **equal area projections** (recall that you can use [this website](http://projectionwizard.org/) to discover the PROJ4 code for suitable projections). To do this, you'll want to use the `to_crs()` function on each dataset. You will also need to apply the same projection to the world data in each case to get the basemap right.\n",
    "\n",
    "When you have successfully made these maps, compare them to the maps made above. Have the apparent hotspots moved? Have they shifted position in both cases? To what do you attribute the movement (if any)?\n",
    "\n",
    "You should complete the code cells below, appropriately, and also the cell that follows with answers to these questions.\n",
    "\n",
    "When you are done, download and submit the completed notebook .ipynb file to bCourses in the dropbox provided, renaming it to something like **your_name_your_SSID.ipynb**."
   ]
  },
  {
   "cell_type": "code",
   "execution_count": null,
   "metadata": {
    "collapsed": false
   },
   "outputs": [],
   "source": [
    "## Earthquakes\n",
    "## Hexbins as above\n",
    "fig = plt.figure(figsize=(6,7.5))  # you might want to change the size\n",
    "ax = plt.subplot(121)\n",
    "ax.set_title('WGS84')\n",
    "\n",
    "hexbins, extent = get_hexbin_map(q_CSAM, nx=10)\n",
    "# don't forget to reproject the world data also, as appropriate\n",
    "basemap = gpd.overlay(world[world.continent.isin(['North America', 'South America'])], extent, how='intersection')\n",
    "\n",
    "qp.quickplot(basemap, facecolor='w', alpha=1.0, edgecolor='k', linewidth=0.0)\n",
    "qp.quickplot(hexbins, column='n', cmap='plasma', alpha=0.75)\n",
    "\n",
    "## Equal-area hexbins in panel 2\n",
    "ax = plt.subplot(122)\n",
    "ax.set_title('Some other projection')\n",
    "\n",
    "## YOUR CODE TO MAKE AN EQUAL-AREA PROJECTION HEXBIN MAP SHOULD GO HERE"
   ]
  },
  {
   "cell_type": "code",
   "execution_count": null,
   "metadata": {
    "collapsed": true
   },
   "outputs": [],
   "source": [
    "## UFOss\n",
    "## Hexbins as above\n",
    "fig = plt.figure(figsize=(16,6))  # you might want to change the size\n",
    "ax = plt.subplot(121)\n",
    "ax.set_title('WGS84')\n",
    "\n",
    "hexbins, extent = get_hexbin_map(ufo_2014, nx=30)\n",
    "# don't forget to reproject the world data also, as appropriate\n",
    "basemap = gpd.overlay(world[world.continent=='North America'], extent, how='intersection')\n",
    "\n",
    "qp.quickplot(basemap, facecolor='w', alpha=1.0, edgecolor='k', linewidth=0.0)\n",
    "qp.quickplot(hexbins, column='n', cmap='plasma', alpha=0.75)\n",
    "\n",
    "## Equal-area hexbins in panel 2\n",
    "ax = plt.subplot(122)\n",
    "ax.set_title('Some other projection')\n",
    "\n",
    "## YOUR CODE TO MAKE AN EQUAL-AREA PROJECTION HEXBIN MAP SHOULD GO HERE"
   ]
  },
  {
   "cell_type": "markdown",
   "metadata": {},
   "source": [
    "## Answer the following questions in this cell\n",
    "(double-click and write responses below each question)\n",
    "### Have the hotspots apparent in each map shifted location?\n",
    "\n",
    "### Have the hotspots been affected differently in each case?\n",
    "\n",
    "### To what do you attribute the movement?"
   ]
  },
  {
   "cell_type": "code",
   "execution_count": null,
   "metadata": {
    "collapsed": true
   },
   "outputs": [],
   "source": []
  }
 ],
 "metadata": {
  "kernelspec": {
   "display_name": "Python 3",
   "language": "python",
   "name": "python3"
  },
  "language_info": {
   "codemirror_mode": {
    "name": "ipython",
    "version": 3
   },
   "file_extension": ".py",
   "mimetype": "text/x-python",
   "name": "python",
   "nbconvert_exporter": "python",
   "pygments_lexer": "ipython3",
   "version": "3.6.0"
  }
 },
 "nbformat": 4,
 "nbformat_minor": 2
}

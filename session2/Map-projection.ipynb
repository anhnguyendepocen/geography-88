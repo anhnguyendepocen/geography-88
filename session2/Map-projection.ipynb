{
 "cells": [
  {
   "cell_type": "code",
   "execution_count": null,
   "metadata": {
    "collapsed": false
   },
   "outputs": [],
   "source": [
    "%matplotlib inline\n",
    "\n",
    "import matplotlib\n",
    "import matplotlib.pyplot as plt\n",
    "import geopandas as gpd\n",
    "\n",
    "import quickplot as qp"
   ]
  },
  {
   "cell_type": "markdown",
   "metadata": {},
   "source": [
    "# Map projection and its implications\n",
    "In this session we continue our exploration of `geopandas` and also examine an important issue concerning spatial data, that of map projection, which can often be overlooked especially when starting out with spatial data.\n",
    "\n",
    "There is also an assignment notebook to be completed for next week."
   ]
  },
  {
   "cell_type": "code",
   "execution_count": null,
   "metadata": {
    "collapsed": false
   },
   "outputs": [],
   "source": [
    "counties1 = gpd.read_file('ca-counties.shp')\n",
    "counties2 = gpd.read_file('ca-counties-LL.shp')"
   ]
  },
  {
   "cell_type": "code",
   "execution_count": null,
   "metadata": {
    "collapsed": false
   },
   "outputs": [],
   "source": [
    "counties1.plot()\n",
    "counties2.plot()"
   ]
  },
  {
   "cell_type": "markdown",
   "metadata": {},
   "source": [
    "These two datasets are both county-level data for California as used in the previous session. Check the data tables if you want to confirm this.\n",
    "\n",
    "Why do they look different? The difference is in their **projections**. The first is in a projected coordinate system *California Equal Area Albers* while the second is in simple latitude-longitude coordinates.\n",
    "\n",
    "Location on Earth's surface is recorded in latitude and longitude.  Each is an angular measure relative to two imaginary references, the **Equator** (latitude = 0&deg;) and the **Prime Meridian** through Greenwich in London (longitude = 0&deg;). This system of geolocation makes sense because Earth is not flat (duh!) but a globe. The measurement system is shown in the figure below.\n",
    "\n",
    "<img src='latlong.png' width=\"400\">"
   ]
  },
  {
   "cell_type": "markdown",
   "metadata": {},
   "source": [
    "Given a pair of coordinates we are accustomed to plotting them on $(x,y)$ axes, but when we do this with latitude and longitude coordinate pairs, we get ourselves in trouble, because although **parallels** (lines at equal latitude) are equally spaced from the equator to the poles, **meridians** converge toward the poles due to the (approximately) spherical shape of Earth.\n",
    "\n",
    "Put more simply, the coordinate system we use to record location on Earth's three-dimensional surface can't be used directly to plot two-dimensional (flat) maps on paper or on screens. Or more correctly, it *can* be used but over any significant area of Earth surface substantial distortions will result.\n",
    "\n",
    "To resolve this problem, we **project** latitude-longitude coordinates into other coordinate systems that have desired properties for particular mapping or analytical purposes.\n",
    "\n",
    "This is a highly technical, yet fascinating area.  We don't have time to get into it in any detail in this class, but it is important to appreciate the implications.  The most important of these is that we need to know projection is a thing!  The second is that **there is no perfect projection** just different projections that we might prefer for different purposes.  Of particular importance are **equal-area** projections, which preserve the relative area of regions on Earth surface and **conformal** projections which preserve shape.  Any given projection can only be effective over a limited area of Earth surface (where the approximation to a flat plane is adequate).\n",
    "\n",
    "Projected data are particularly useful because they make calculation of distances and areas much simpler (we can apply simple geometry) than if we work with latitude-longitude coordinates.  For example, the equation for the distance between two locations with lat-lon coordinates $\\left(\\phi_1,\\lambda_1\\right)$ and $\\left(\\phi_2,\\lambda_2\\right)$ is given by (see [Haversine formula](https://en.wikipedia.org/wiki/Haversine_formula). \n",
    "\n",
    "$$ \n",
    "d=2 r \\arcsin\\left(\\sqrt{\\sin^2\\left(\\frac{\\varphi_2 - \\varphi_1}{2}\\right) + \\cos(\\varphi_1) \\cos(\\varphi_2)\\sin^2\\left(\\frac{\\lambda_2 - \\lambda_1}{2}\\right)}\\right)\n",
    "$$\n",
    "\n",
    "where $r$ is Earth's radius. On the other hand, if we work in projected $\\left(x,y\\right)$ coordinates in the plane, then we can use the much simpler\n",
    "\n",
    "$$\n",
    "d\\approx\\sqrt{(x_2-x_1)^2+(y_2-y_1)^2}\n",
    "$$\n",
    "\n",
    "This provides enormous computational benefits when we are calculating many distances and areas in carrying out spatial analysis."
   ]
  },
  {
   "cell_type": "markdown",
   "metadata": {},
   "source": [
    "## Map projections in geopandas\n",
    "The data we read in above were differently projected. We can see how with the `crs` property of the `GeoDataFrame`s."
   ]
  },
  {
   "cell_type": "code",
   "execution_count": null,
   "metadata": {
    "collapsed": false
   },
   "outputs": [],
   "source": [
    "counties1.crs, counties2.crs"
   ]
  },
  {
   "cell_type": "markdown",
   "metadata": {},
   "source": [
    "The first one is detailed **PROJ4** information that enables lat-lon to be projected into the coordinate system of interest. PROJ4 is a standard that enables spatial tools (such as geopandas, or a GIS) to decide what mathematical transformations need to be applied to convert in to or out of that coordinate system.  We can see (with a little practice) that this is a projection that is equal-area ('aea'), which results in coordinates in meters (`'units': 'm'`). \n",
    "\n",
    "The other projection seeminly isn't giving a lot away, other than that it has an **EPSG** code 4326.  You can look that up [here](http://epsg.io/4326) for more information.  That website also enables you to obtain PROJ4 strings for projections.\n",
    "\n",
    "Even more useful, is [this website](http://projectionwizard.org/) which will help you make an informed choice about a suitable coordinate system with desired properties for the regional extent of the data you are working with. You specify the spatial extent of your data and the property you want (equal area, conformality, or equal distances) and it will generate the PROJ4 string you need.  You can use this in `geopandas` with the `to_crs()` function to convert a dataset to a desired projection.  You will see examples of this in this notebook. \n",
    "\n",
    "There are literally hundreds, probably thousands of projected coordinate systems. California has 6 local projected coordinate systems (State Plane 1 through 6) and every country and many subnational jurisdictions have their own localized projected coordinate systems used for precision mapping in those jurisdictions.\n",
    "\n",
    "For our purposes, the important thing is to be able to manipulate projected coordinate systems, for which we use the `to_crs()` function. If you know something about the projection then this is easy, and with just a single line of code we can reproject a given `GeoDataFrame` to a required new projection."
   ]
  },
  {
   "cell_type": "code",
   "execution_count": null,
   "metadata": {
    "collapsed": false
   },
   "outputs": [],
   "source": [
    "counties1.to_crs(epsg=4326).plot()"
   ]
  },
  {
   "cell_type": "markdown",
   "metadata": {},
   "source": [
    "Note that this does not change the coordinate system of `counties1`.  To do that, we have to save it back to the variable name:"
   ]
  },
  {
   "cell_type": "code",
   "execution_count": null,
   "metadata": {
    "collapsed": false
   },
   "outputs": [],
   "source": [
    "counties1 = counties1.to_crs(epsg=4326)\n",
    "counties1.crs"
   ]
  },
  {
   "cell_type": "markdown",
   "metadata": {},
   "source": [
    "You get some idea of the variety of projected coordinate systems available from [this useful website](http://www.progonos.com/furuti/MapProj/Normal/TOC/cartTOC.html).  As is evident from that site, projection becomes especially important when we want to make maps of the whole Earth, because it is then that the distorting effects of the difference between a (near) sphere and a flat map become most problematic."
   ]
  },
  {
   "cell_type": "markdown",
   "metadata": {},
   "source": [
    "## Playing with world map projections"
   ]
  },
  {
   "cell_type": "markdown",
   "metadata": {},
   "source": [
    "Try each of the following, until you get a feel for the possibilities. Before starting, we make a *Great Circle* meridian arc at longitude +/- 180, which we can use to visualize the total extent of the globe in each case."
   ]
  },
  {
   "cell_type": "code",
   "execution_count": null,
   "metadata": {
    "collapsed": false
   },
   "outputs": [],
   "source": [
    "# Make a Great Circle at the +/-180 meridian\n",
    "# we can draw this to get a better sense of the projections' overall shapes\n",
    "from shapely.geometry.linestring import LineString\n",
    "gc = gpd.GeoDataFrame(geometry = gpd.GeoSeries([LineString([[-180, y] for y in range(-90, 91, 1)] +\n",
    "                                                           [[180, y] for y in range(90, -91, -1)])]))\n",
    "gc.crs = {'init': 'epsg:4326', 'no_defs': True}\n",
    "\n",
    "world = gpd.read_file(gpd.datasets.get_path('naturalearth_lowres'))\n",
    "qp.quickplot(gc, facecolor='#33ccff', alpha='0.2')\n",
    "qp.quickplot(world)"
   ]
  },
  {
   "cell_type": "code",
   "execution_count": null,
   "metadata": {
    "collapsed": false
   },
   "outputs": [],
   "source": [
    "## This one is 'Web Mercator' popularized by web mapping, and much \n",
    "## disliked by cartographers for its large distortions of areas \n",
    "## toward the poles\n",
    "plt.gca().set_title('Web Mercator')\n",
    "qp.quickplot(gc.to_crs(epsg=3857), facecolor='#33ccff', alpha='0.2')\n",
    "qp.quickplot(world.to_crs(epsg=3857))"
   ]
  },
  {
   "cell_type": "markdown",
   "metadata": {},
   "source": [
    "To get a sense of just how bad the distortions caused by Mercator are check out [thetruesize.com](http://thetruesize.com). Notice also that the Great Circle we made has not been plotted in this case.  That is because it *can't be*. Mercator puts the poles at $\\infty$! That's also why Antarctica is getting chopped up in this projection.\n",
    "\n",
    "It is not uncommon with world data sets to run into problems like the one we see above with Antarctica - this is because how coordinates are handled when longitude transitions from -180&deg; to +180&deg; is often poorly specified.  To avoid this problem we can remove Antarctica from the `world` dataset. Check out the data table."
   ]
  },
  {
   "cell_type": "code",
   "execution_count": null,
   "metadata": {
    "collapsed": false
   },
   "outputs": [],
   "source": [
    "world.head()"
   ]
  },
  {
   "cell_type": "code",
   "execution_count": null,
   "metadata": {
    "collapsed": false
   },
   "outputs": [],
   "source": [
    "world2 = world[world.continent != 'Antarctica']\n",
    "plt.gca().set_title('No Antarctica')\n",
    "qp.quickplot(world2, facecolor='#336633')"
   ]
  },
  {
   "cell_type": "markdown",
   "metadata": {},
   "source": [
    "And now some more projected coordinate systems"
   ]
  },
  {
   "cell_type": "code",
   "execution_count": null,
   "metadata": {
    "collapsed": false
   },
   "outputs": [],
   "source": [
    "plt.gca().set_title('Mollweide')\n",
    "qp.quickplot(gc.to_crs('+proj=moll +lon_0=0 +x_0=0 +y_0=0 +datum=WGS84 +units=m +no_defs'), \n",
    "             facecolor='#33ccff', alpha='0.2')\n",
    "qp.quickplot(world.to_crs('+proj=moll +lon_0=0 +x_0=0 +y_0=0 +datum=WGS84 +units=m +no_defs'), \n",
    "             facecolor='#336633')"
   ]
  },
  {
   "cell_type": "code",
   "execution_count": null,
   "metadata": {
    "collapsed": false
   },
   "outputs": [],
   "source": [
    "plt.gca().set_title('Sinusoidal')\n",
    "qp.quickplot(gc.to_crs('+proj=sinu +lon_0=0 +x_0=0 +y_0=0 +a=6378140 +b=6356750 +units=m +no_defs'), \n",
    "             facecolor='#33ccff', alpha='0.2')\n",
    "qp.quickplot(world.to_crs('+proj=sinu +lon_0=0 +x_0=0 +y_0=0 +a=6378140 +b=6356750 +units=m +no_defs'), \n",
    "             facecolor='#336633')"
   ]
  },
  {
   "cell_type": "code",
   "execution_count": null,
   "metadata": {
    "collapsed": false
   },
   "outputs": [],
   "source": [
    "plt.gca().set_title('Bonne')\n",
    "qp.quickplot(gc.to_crs('+proj=bonne +lon_0=0 +lat_1=60 +x_0=0 +y_0=0 +ellps=WGS84 +datum=WGS84 +units=m +no_defs'), \n",
    "             facecolor='#33ccff', alpha='0.2')\n",
    "qp.quickplot(world.to_crs('+proj=bonne +lon_0=0 +lat_1=60 +x_0=0 +y_0=0 +ellps=WGS84 +datum=WGS84 +units=m +no_defs'), \n",
    "             facecolor='#336633')"
   ]
  },
  {
   "cell_type": "markdown",
   "metadata": {
    "collapsed": true
   },
   "source": [
    "Find some more projected coordinate systems at [epsg.io]() or at [http://projectionwizard.org/]() to make sure you are comfortable with all this."
   ]
  },
  {
   "cell_type": "code",
   "execution_count": null,
   "metadata": {
    "collapsed": true
   },
   "outputs": [],
   "source": []
  }
 ],
 "metadata": {
  "kernelspec": {
   "display_name": "Python 3",
   "language": "python",
   "name": "python3"
  },
  "language_info": {
   "codemirror_mode": {
    "name": "ipython",
    "version": 3
   },
   "file_extension": ".py",
   "mimetype": "text/x-python",
   "name": "python",
   "nbconvert_exporter": "python",
   "pygments_lexer": "ipython3",
   "version": "3.6.0"
  }
 },
 "nbformat": 4,
 "nbformat_minor": 2
}

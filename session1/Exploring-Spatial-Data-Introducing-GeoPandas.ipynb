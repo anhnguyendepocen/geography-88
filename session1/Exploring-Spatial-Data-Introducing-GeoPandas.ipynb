{
 "cells": [
  {
   "cell_type": "code",
   "execution_count": 1,
   "metadata": {
    "collapsed": true
   },
   "outputs": [],
   "source": [
    "%matplotlib inline\n",
    "\n",
    "import matplotlib\n",
    "import numpy as np\n",
    "import matplotlib.pyplot as plt"
   ]
  },
  {
   "cell_type": "markdown",
   "metadata": {},
   "source": [
    "# Introducing geopandas\n",
    "In the next two weeks we will use the [geopandas](http://geopandas.org/) package to explore some key challenges of dealing with spatial data in the context of data science. That name probably requires at least a little bit of explanation. [Pandas](http://pandas.pydata.org/index.html) is an advanced package for manipulating tables of data.  The name is an approximate acronym for Python Data Analysis library.  Many of the capabilities pandas offers are available in the datascience package you have been using in foundation class, although pandas more advanced features mean that it is not an especially easy package to learn.\n",
    "\n",
    "Anyway, geo-pandas combines pandas (data tables) with number of other packages, in particular, shapely (https://pypi.python.org/pypi/Shapely) which deals with geometry and fiona (https://pypi.python.org/pypi/Fiona) which handles spatial data formats.\n",
    "\n",
    "So... let's import geopandas."
   ]
  },
  {
   "cell_type": "code",
   "execution_count": 2,
   "metadata": {
    "collapsed": false
   },
   "outputs": [],
   "source": [
    "import geopandas as gpd"
   ]
  },
  {
   "cell_type": "markdown",
   "metadata": {},
   "source": [
    "## Open a data file\n",
    "This is simple. The `read_file()` function will do the trick, and provided the file format makes sense, and is consistent with the file extension, you should have no issues."
   ]
  },
  {
   "cell_type": "code",
   "execution_count": 5,
   "metadata": {
    "collapsed": false
   },
   "outputs": [],
   "source": [
    "counties = gpd.read_file('ca-counties.geosjon')"
   ]
  },
  {
   "cell_type": "markdown",
   "metadata": {},
   "source": [
    "Assign the file read result to a suitable variable name, and from there on you are dealing with a geopandas `GeoDataFrame` object, which allows us to examine the contents.  The `.head()` function will show us the first few rows of the data table."
   ]
  },
  {
   "cell_type": "code",
   "execution_count": 6,
   "metadata": {
    "collapsed": false,
    "scrolled": true
   },
   "outputs": [
    {
     "data": {
      "text/html": [
       "<div>\n",
       "<table border=\"1\" class=\"dataframe\">\n",
       "  <thead>\n",
       "    <tr style=\"text-align: right;\">\n",
       "      <th></th>\n",
       "      <th>CENSUSAREA</th>\n",
       "      <th>COUNTY</th>\n",
       "      <th>GEO_ID</th>\n",
       "      <th>Geography</th>\n",
       "      <th>Id</th>\n",
       "      <th>Id2</th>\n",
       "      <th>LSAD</th>\n",
       "      <th>NAME</th>\n",
       "      <th>STATE</th>\n",
       "      <th>geometry</th>\n",
       "      <th>...</th>\n",
       "      <th>nPop</th>\n",
       "      <th>p20to24</th>\n",
       "      <th>pAIAAN</th>\n",
       "      <th>pAfrAmer</th>\n",
       "      <th>pAsian</th>\n",
       "      <th>pFemale</th>\n",
       "      <th>pHispLat</th>\n",
       "      <th>pOther</th>\n",
       "      <th>pU5</th>\n",
       "      <th>pWhite</th>\n",
       "    </tr>\n",
       "  </thead>\n",
       "  <tbody>\n",
       "    <tr>\n",
       "      <th>0</th>\n",
       "      <td>4541.184</td>\n",
       "      <td>035</td>\n",
       "      <td>0500000US06035</td>\n",
       "      <td>Lassen County, California</td>\n",
       "      <td>0500000US06035</td>\n",
       "      <td>6035.0</td>\n",
       "      <td>County</td>\n",
       "      <td>Lassen</td>\n",
       "      <td>06</td>\n",
       "      <td>POLYGON ((200.2238382628718 306850.1626539091,...</td>\n",
       "      <td>...</td>\n",
       "      <td>34895.0</td>\n",
       "      <td>8.1</td>\n",
       "      <td>3.5</td>\n",
       "      <td>8.1</td>\n",
       "      <td>1.0</td>\n",
       "      <td>35.8</td>\n",
       "      <td>17.5</td>\n",
       "      <td>10.2</td>\n",
       "      <td>4.7</td>\n",
       "      <td>73.2</td>\n",
       "    </tr>\n",
       "    <tr>\n",
       "      <th>1</th>\n",
       "      <td>3917.770</td>\n",
       "      <td>049</td>\n",
       "      <td>0500000US06049</td>\n",
       "      <td>Modoc County, California</td>\n",
       "      <td>0500000US06049</td>\n",
       "      <td>6049.0</td>\n",
       "      <td>County</td>\n",
       "      <td>Modoc</td>\n",
       "      <td>06</td>\n",
       "      <td>POLYGON ((-40444.04459339473 441660.9794727284...</td>\n",
       "      <td>...</td>\n",
       "      <td>9686.0</td>\n",
       "      <td>4.4</td>\n",
       "      <td>3.8</td>\n",
       "      <td>0.8</td>\n",
       "      <td>0.8</td>\n",
       "      <td>49.6</td>\n",
       "      <td>13.9</td>\n",
       "      <td>7.0</td>\n",
       "      <td>5.6</td>\n",
       "      <td>83.5</td>\n",
       "    </tr>\n",
       "    <tr>\n",
       "      <th>2</th>\n",
       "      <td>46.873</td>\n",
       "      <td>075</td>\n",
       "      <td>0500000US06075</td>\n",
       "      <td>San Francisco County, California</td>\n",
       "      <td>0500000US06075</td>\n",
       "      <td>6075.0</td>\n",
       "      <td>County</td>\n",
       "      <td>San Francisco</td>\n",
       "      <td>06</td>\n",
       "      <td>(POLYGON ((-265237.2095064469 -31089.148008309...</td>\n",
       "      <td>...</td>\n",
       "      <td>805235.0</td>\n",
       "      <td>7.5</td>\n",
       "      <td>0.5</td>\n",
       "      <td>6.1</td>\n",
       "      <td>33.3</td>\n",
       "      <td>49.3</td>\n",
       "      <td>15.1</td>\n",
       "      <td>6.6</td>\n",
       "      <td>4.4</td>\n",
       "      <td>48.5</td>\n",
       "    </tr>\n",
       "    <tr>\n",
       "      <th>3</th>\n",
       "      <td>2735.085</td>\n",
       "      <td>083</td>\n",
       "      <td>0500000US06083</td>\n",
       "      <td>Santa Barbara County, California</td>\n",
       "      <td>0500000US06083</td>\n",
       "      <td>6083.0</td>\n",
       "      <td>County</td>\n",
       "      <td>Santa Barbara</td>\n",
       "      <td>06</td>\n",
       "      <td>(POLYGON ((19494.79993769876 -439965.299401894...</td>\n",
       "      <td>...</td>\n",
       "      <td>423895.0</td>\n",
       "      <td>10.2</td>\n",
       "      <td>1.3</td>\n",
       "      <td>2.0</td>\n",
       "      <td>4.9</td>\n",
       "      <td>49.8</td>\n",
       "      <td>42.9</td>\n",
       "      <td>17.4</td>\n",
       "      <td>6.5</td>\n",
       "      <td>69.6</td>\n",
       "    </tr>\n",
       "    <tr>\n",
       "      <th>4</th>\n",
       "      <td>953.214</td>\n",
       "      <td>091</td>\n",
       "      <td>0500000US06091</td>\n",
       "      <td>Sierra County, California</td>\n",
       "      <td>0500000US06091</td>\n",
       "      <td>6091.0</td>\n",
       "      <td>County</td>\n",
       "      <td>Sierra</td>\n",
       "      <td>06</td>\n",
       "      <td>POLYGON ((-179.3527407914399 158623.8650718099...</td>\n",
       "      <td>...</td>\n",
       "      <td>3240.0</td>\n",
       "      <td>3.6</td>\n",
       "      <td>1.4</td>\n",
       "      <td>0.2</td>\n",
       "      <td>0.4</td>\n",
       "      <td>49.2</td>\n",
       "      <td>8.3</td>\n",
       "      <td>2.3</td>\n",
       "      <td>4.5</td>\n",
       "      <td>93.3</td>\n",
       "    </tr>\n",
       "  </tbody>\n",
       "</table>\n",
       "<p>5 rows × 22 columns</p>\n",
       "</div>"
      ],
      "text/plain": [
       "   CENSUSAREA COUNTY          GEO_ID                         Geography  \\\n",
       "0    4541.184    035  0500000US06035         Lassen County, California   \n",
       "1    3917.770    049  0500000US06049          Modoc County, California   \n",
       "2      46.873    075  0500000US06075  San Francisco County, California   \n",
       "3    2735.085    083  0500000US06083  Santa Barbara County, California   \n",
       "4     953.214    091  0500000US06091         Sierra County, California   \n",
       "\n",
       "               Id     Id2    LSAD           NAME STATE  \\\n",
       "0  0500000US06035  6035.0  County         Lassen    06   \n",
       "1  0500000US06049  6049.0  County          Modoc    06   \n",
       "2  0500000US06075  6075.0  County  San Francisco    06   \n",
       "3  0500000US06083  6083.0  County  Santa Barbara    06   \n",
       "4  0500000US06091  6091.0  County         Sierra    06   \n",
       "\n",
       "                                            geometry   ...        nPop  \\\n",
       "0  POLYGON ((200.2238382628718 306850.1626539091,...   ...     34895.0   \n",
       "1  POLYGON ((-40444.04459339473 441660.9794727284...   ...      9686.0   \n",
       "2  (POLYGON ((-265237.2095064469 -31089.148008309...   ...    805235.0   \n",
       "3  (POLYGON ((19494.79993769876 -439965.299401894...   ...    423895.0   \n",
       "4  POLYGON ((-179.3527407914399 158623.8650718099...   ...      3240.0   \n",
       "\n",
       "   p20to24  pAIAAN  pAfrAmer  pAsian  pFemale  pHispLat  pOther  pU5  pWhite  \n",
       "0      8.1     3.5       8.1     1.0     35.8      17.5    10.2  4.7    73.2  \n",
       "1      4.4     3.8       0.8     0.8     49.6      13.9     7.0  5.6    83.5  \n",
       "2      7.5     0.5       6.1    33.3     49.3      15.1     6.6  4.4    48.5  \n",
       "3     10.2     1.3       2.0     4.9     49.8      42.9    17.4  6.5    69.6  \n",
       "4      3.6     1.4       0.2     0.4     49.2       8.3     2.3  4.5    93.3  \n",
       "\n",
       "[5 rows x 22 columns]"
      ]
     },
     "execution_count": 6,
     "metadata": {},
     "output_type": "execute_result"
    }
   ],
   "source": [
    "counties.head()"
   ]
  },
  {
   "cell_type": "markdown",
   "metadata": {},
   "source": [
    "The important thing to notice here, is the **geometry** column in the table. It may not show up in the table view above. Let's take a look at it"
   ]
  },
  {
   "cell_type": "code",
   "execution_count": 7,
   "metadata": {
    "collapsed": false
   },
   "outputs": [
    {
     "data": {
      "text/plain": [
       "0    POLYGON ((200.2238382628718 306850.1626539091,...\n",
       "1    POLYGON ((-40444.04459339473 441660.9794727284...\n",
       "2    (POLYGON ((-265237.2095064469 -31089.148008309...\n",
       "3    (POLYGON ((19494.79993769876 -439965.299401894...\n",
       "4    POLYGON ((-179.3527407914399 158623.8650718099...\n",
       "Name: geometry, dtype: object"
      ]
     },
     "execution_count": 7,
     "metadata": {},
     "output_type": "execute_result"
    }
   ],
   "source": [
    "counties.geometry.head()"
   ]
  },
  {
   "cell_type": "markdown",
   "metadata": {
    "collapsed": false
   },
   "source": [
    "We can also use dictionary style notation to access the column."
   ]
  },
  {
   "cell_type": "code",
   "execution_count": 8,
   "metadata": {
    "collapsed": false
   },
   "outputs": [
    {
     "data": {
      "text/plain": [
       "0    POLYGON ((200.2238382628718 306850.1626539091,...\n",
       "1    POLYGON ((-40444.04459339473 441660.9794727284...\n",
       "2    (POLYGON ((-265237.2095064469 -31089.148008309...\n",
       "3    (POLYGON ((19494.79993769876 -439965.299401894...\n",
       "4    POLYGON ((-179.3527407914399 158623.8650718099...\n",
       "Name: geometry, dtype: object"
      ]
     },
     "execution_count": 8,
     "metadata": {},
     "output_type": "execute_result"
    }
   ],
   "source": [
    "counties['geometry'].head()"
   ]
  },
  {
   "cell_type": "markdown",
   "metadata": {},
   "source": [
    "What is a geometry? "
   ]
  },
  {
   "cell_type": "code",
   "execution_count": null,
   "metadata": {
    "collapsed": false
   },
   "outputs": [],
   "source": [
    "counties.geometry[0]"
   ]
  },
  {
   "cell_type": "markdown",
   "metadata": {},
   "source": [
    "Cool! You just made a map of Lassen County. Not a particularly useful map, but a map nevertheless.\n",
    "\n",
    "The geometry column in a `GeoDataFrame` can store points, polygons, line segments or a variety of other `shapely` geometries, which can then be manipulated and managed in various ways according to our needs.\n",
    "\n",
    "### Let's make some maps!"
   ]
  },
  {
   "cell_type": "code",
   "execution_count": null,
   "metadata": {
    "collapsed": false
   },
   "outputs": [],
   "source": [
    "counties.plot()"
   ]
  },
  {
   "cell_type": "markdown",
   "metadata": {},
   "source": [
    "Kinda small. Try again."
   ]
  },
  {
   "cell_type": "code",
   "execution_count": null,
   "metadata": {
    "collapsed": false
   },
   "outputs": [],
   "source": [
    "counties.plot(figsize=(6,9))"
   ]
  },
  {
   "cell_type": "markdown",
   "metadata": {},
   "source": [
    "We can manipulate the look of this with a variety of other options in the `plot()` function. For example..."
   ]
  },
  {
   "cell_type": "code",
   "execution_count": null,
   "metadata": {
    "collapsed": false
   },
   "outputs": [],
   "source": [
    "counties.plot(figsize=(6,9), linewidth=0.25, edgecolor='w', facecolor='#999999')"
   ]
  },
  {
   "cell_type": "markdown",
   "metadata": {},
   "source": [
    "You can find out more about the plotting options for basic maps in geopandas from [the documentation](http://geopandas.org/mapping.html) and also from the [matplotlib documentation](http://matplotlib.org/api/pyplot_api.html). \n",
    "\n",
    "For closer control over things, you need to a work at a lower level with the pyplot API. For example, to put county names on the map..."
   ]
  },
  {
   "cell_type": "code",
   "execution_count": null,
   "metadata": {
    "collapsed": false
   },
   "outputs": [],
   "source": [
    "fig = plt.figure()\n",
    "ax = fig.add_subplot(111)\n",
    "for polygon, name in zip(counties.geometry, counties.NAME):\n",
    "    ax.annotate(xy=(polygon.centroid.x-50000, polygon.centroid.y), s=name)\n",
    "counties.plot(ax=ax, linewidth=0.25, edgecolor='w', facecolor='#999999')"
   ]
  },
  {
   "cell_type": "markdown",
   "metadata": {},
   "source": [
    "Hmmm... something not quite right there. The problem is that by working with the **matplotlib** low-level API, the plotting is no longer aware that the $(x, y)$ coordinates of the geometries are not just any old $(x, y)$ coordinates, but meaningful ones that need to be treated as such.  In particular, in most cases, they should be treated as scaled equally (in this case they are meters, from an arbitrary origin).  We enforce this by specifying that the plot should employ an equal aspect ratio."
   ]
  },
  {
   "cell_type": "code",
   "execution_count": null,
   "metadata": {
    "collapsed": false
   },
   "outputs": [],
   "source": [
    "fig = plt.figure(figsize=(6,9))\n",
    "ax = fig.add_subplot(111)\n",
    "# Apply equal aspect ratio\n",
    "ax.set_aspect('equal')\n",
    "for polygon, name in zip(counties.geometry, counties.NAME):\n",
    "    ax.annotate(xy=(polygon.centroid.x-50000, polygon.centroid.y), s=name)\n",
    "counties.plot(ax=ax, linewidth=0.25, edgecolor='w', facecolor='#999999')"
   ]
  },
  {
   "cell_type": "markdown",
   "metadata": {},
   "source": [
    "That's still not perfect, but it is a big improvement.\n",
    "\n",
    "It is possible to make nice maps in geopandas, but to make finished publication quality maps, you will most likely want to export the map to a graphical file format for final tidy up in a package such as Inkscape or Illustrator. We aren't particularly concerned at the moment with publication quality maps so I'll just note the possibility and move on."
   ]
  },
  {
   "cell_type": "code",
   "execution_count": null,
   "metadata": {
    "collapsed": true
   },
   "outputs": [],
   "source": [
    "## For example, you could do this, to make an SVG file\n",
    "## fig.savefig('ca.svg')"
   ]
  },
  {
   "cell_type": "markdown",
   "metadata": {},
   "source": [
    "## Mapping data\n",
    "Our concern here is with *data* as much as with maps, so how can we map the data in that table we saw above?\n",
    "\n",
    "We simply tell the `plot()` function what column in the data table to map.  Let's work initially with the `nPop` column which tells us the number of people recorded in the census in each county."
   ]
  },
  {
   "cell_type": "code",
   "execution_count": null,
   "metadata": {
    "collapsed": false
   },
   "outputs": [],
   "source": [
    "counties.plot(column='nPop', linewidth=0.25, figsize=(6,9))"
   ]
  },
  {
   "cell_type": "markdown",
   "metadata": {},
   "source": [
    "Not great. The problem here is the color scheme we are using (the default). Try this instead."
   ]
  },
  {
   "cell_type": "code",
   "execution_count": null,
   "metadata": {
    "collapsed": false
   },
   "outputs": [],
   "source": [
    "counties.plot(column='nPop', cmap='Reds', linewidth=0.25, figsize=(6,9))"
   ]
  },
  {
   "cell_type": "markdown",
   "metadata": {},
   "source": [
    "Hmmm. What's the problem now? It turns out counties are bad units for many kinds of analysis because they have radically different populations. We can see this by making a histogram of the county populations. "
   ]
  },
  {
   "cell_type": "code",
   "execution_count": null,
   "metadata": {
    "collapsed": false
   },
   "outputs": [],
   "source": [
    "plt.hist(counties.nPop)"
   ]
  },
  {
   "cell_type": "markdown",
   "metadata": {},
   "source": [
    "There are 53 counties in the state. 49 of them have populations under 1 million (well under that in fact), while Los Angeles county has over 9 million. That very skew distribution means we have to think carefully about how to map such data in a meaningful way. \n",
    "\n",
    "Take a look at the code below."
   ]
  },
  {
   "cell_type": "code",
   "execution_count": null,
   "metadata": {
    "collapsed": false
   },
   "outputs": [],
   "source": [
    "fig = plt.figure(figsize=(15,8))\n",
    "ax1 = plt.subplot(131)\n",
    "ax1.set_aspect('equal')\n",
    "counties.plot(ax=ax1, column='nPop', cmap='Blues', scheme='equal_interval', linewidth=0.25, legend=True)\n",
    "ax2 = plt.subplot(132)\n",
    "ax2.set_aspect('equal')\n",
    "counties.plot(ax=ax2, column='nPop', cmap='Reds', scheme='quantiles', linewidth=0.25, legend=True)\n",
    "ax3 = plt.subplot(133)\n",
    "ax3.set_aspect('equal')\n",
    "counties.plot(ax=ax3, column='nPop', cmap='Greens', scheme='fisher_jenks', linewidth=0.25, legend=True)"
   ]
  },
  {
   "cell_type": "markdown",
   "metadata": {},
   "source": [
    "This makes three maps, each of them using a different *classification scheme* to determine how data values are mapped onto colors for display.  This is something you will look at in more detail later in the course, and it can have dramatic effects on the message conveyed by a map.\n",
    "\n",
    "For now, in the cell below, experiment with making some maps of other columns in the data table.  Experiment with the `edgecolor`, `linewidth` and `facecolor` options.  Also change the color map `cmap` setting.  A list of the available color maps is [provided here](http://matplotlib.org/users/colormaps.html)."
   ]
  },
  {
   "cell_type": "markdown",
   "metadata": {},
   "source": [
    "## Quicker plotting\n",
    "You may have noticed that when we make three maps of California, GeoPandas `plot()` function gets quite slow.  There are technical reasons for this and a fix is in the pipeline for a future release of the package.  For now, I've made a hacky fix, that will allow you to plot things more quickly, but which might break (you have been warned).\n",
    "\n",
    "It also can't produce legends or provide alternative classification schemes."
   ]
  },
  {
   "cell_type": "code",
   "execution_count": null,
   "metadata": {
    "collapsed": false
   },
   "outputs": [],
   "source": [
    "import quickplot as qp\n",
    "\n",
    "fig = plt.figure(figsize=(6,9))\n",
    "qp.quickplot(counties, column='nPop', cmap='Greens', linewidth=0.25, edgecolor='k')"
   ]
  },
  {
   "cell_type": "markdown",
   "metadata": {},
   "source": [
    "Note that key capabilities of geopandas `plot()` are not available in my hacky `quickplot()`, specifically `scheme` and `legend`.  That's not ideal, but at least when you are experimenting with code you can get maps more quickly with this approach.  This is important when we look at larger datasets like all the counties for the wholeof the US."
   ]
  },
  {
   "cell_type": "markdown",
   "metadata": {},
   "source": [
    "## Making a web map\n",
    "Finally in this quick introduction, if you'd like to take a map from geopandas and make it into a web map, we can do that with a package called `mplleaflet`."
   ]
  },
  {
   "cell_type": "code",
   "execution_count": null,
   "metadata": {
    "collapsed": false
   },
   "outputs": [],
   "source": [
    "import mplleaflet as mpl\n",
    "\n",
    "qp.quickplot(counties.to_crs(epsg=4236), column='pWhite', cmap='Reds', edgecolor='k')\n",
    "mpl.display()"
   ]
  },
  {
   "cell_type": "markdown",
   "metadata": {
    "collapsed": false
   },
   "source": [
    "There is a sneaky function call `to_crs()` in that code snippet, which relates to map projections. We'll look at that in more detail in the next session."
   ]
  },
  {
   "cell_type": "code",
   "execution_count": null,
   "metadata": {
    "collapsed": true
   },
   "outputs": [],
   "source": []
  }
 ],
 "metadata": {
  "kernelspec": {
   "display_name": "Python 3",
   "language": "python",
   "name": "python3"
  },
  "language_info": {
   "codemirror_mode": {
    "name": "ipython",
    "version": 3
   },
   "file_extension": ".py",
   "mimetype": "text/x-python",
   "name": "python",
   "nbconvert_exporter": "python",
   "pygments_lexer": "ipython3",
   "version": "3.6.0"
  }
 },
 "nbformat": 4,
 "nbformat_minor": 2
}

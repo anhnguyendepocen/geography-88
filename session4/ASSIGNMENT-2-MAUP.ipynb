{
 "cells": [
  {
   "cell_type": "code",
   "execution_count": null,
   "metadata": {
    "collapsed": true
   },
   "outputs": [],
   "source": [
    "%matplotlib inline\n",
    "\n",
    "import matplotlib\n",
    "import numpy as np\n",
    "import matplotlib.pyplot as plt\n",
    "\n",
    "import shapely\n",
    "import geopandas as gpd\n",
    "\n",
    "import quickplot as qp"
   ]
  },
  {
   "cell_type": "markdown",
   "metadata": {},
   "source": [
    "# The modifiable areal unit problem (MAUP) and the electoral college\n",
    "A classic example of the problems with aggregating data to polygons is provided by electoral geographies. This is particularly dramatized by [*gerrymandering*](http://www.vox.com/cards/gerrymandering-explained/what-is-gerrymandering) when electoral district boundaries are manipulated for the advantage of one side or another.\n",
    "\n",
    "There are many great online resources on gerrymandering. One I came across recently is this [blog post](http://mike.teczno.com/notes/redistricting.html), which I recommend you read, because it moves beyond a simplistic focus on the *shape* of electoral districts to the much more important aspect of how votes for one or another party are used more or less efficiently to elect representatives as a consequence of manipulation of electoral geography."
   ]
  },
  {
   "cell_type": "markdown",
   "metadata": {},
   "source": [
    "## MAUP\n",
    "The insight (if we can call it that) which underpins gerrymandering, is that the spatial patterns we observe on maps may depend on the set of polygons we use to partition up space and aggregate data.  To see this consider the following example. \n",
    "\n",
    "First we make a function that returns a grid of squares as a `GeoDataFrame`."
   ]
  },
  {
   "cell_type": "code",
   "execution_count": null,
   "metadata": {
    "collapsed": false
   },
   "outputs": [],
   "source": [
    "# Make a 10 x 10 grid of squares\n",
    "def get_grid(width=10, height=10, noise=0):\n",
    "    squares = [] \n",
    "    row = []\n",
    "    col = []\n",
    "    for c in range(width):\n",
    "        for r in range(height):\n",
    "            squares.append(shapely.geometry.polygon.Polygon([[c, r], [c, r+1], [c+1, r+1], [c+1, r]]))\n",
    "            col.append(c)\n",
    "            row.append(r)\n",
    "    square_map = gpd.GeoDataFrame(geometry=gpd.GeoSeries(squares))\n",
    "    square_map.crs = {'init': 'epsg:4326'}\n",
    "    square_map['column'] = col\n",
    "    square_map['row'] = row\n",
    "    square_map['approx_col'] = square_map.column + (noise * np.random.rand(width*height))\n",
    "    square_map['approx_row'] = square_map.row + (noise * np.random.rand(width*height))\n",
    "    return square_map"
   ]
  },
  {
   "cell_type": "markdown",
   "metadata": {},
   "source": [
    "Now use it to make a grid. "
   ]
  },
  {
   "cell_type": "code",
   "execution_count": null,
   "metadata": {
    "collapsed": false
   },
   "outputs": [],
   "source": [
    "grid = get_grid(width=5, height=5, noise=3)\n",
    "grid.head()"
   ]
  },
  {
   "cell_type": "markdown",
   "metadata": {},
   "source": [
    "Now map its **approx_row** and **approx_column** attributes."
   ]
  },
  {
   "cell_type": "code",
   "execution_count": null,
   "metadata": {
    "collapsed": false
   },
   "outputs": [],
   "source": [
    "fig = plt.figure(figsize=(6,3))\n",
    "ax = plt.subplot(121)\n",
    "ax.set_title('approx_col')\n",
    "ax.set_axis_off()\n",
    "grid.plot(ax=ax, column='approx_col', cmap='Reds')\n",
    "ax = plt.subplot(122)\n",
    "ax.set_title('approx_row')\n",
    "ax.set_axis_off()\n",
    "grid.plot(ax=ax, column='approx_row', cmap='Blues')"
   ]
  },
  {
   "cell_type": "markdown",
   "metadata": {},
   "source": [
    "Now, use **dissolve** to aggregate the grid into rows or columns, using a sum function to summarize the data in each case."
   ]
  },
  {
   "cell_type": "code",
   "execution_count": null,
   "metadata": {
    "collapsed": false
   },
   "outputs": [],
   "source": [
    "rows = grid.dissolve(by='row', aggfunc='sum', as_index=False)\n",
    "cols = grid.dissolve(by='column', aggfunc='sum', as_index=False)\n",
    "\n",
    "## Now map them again\n",
    "fig = plt.figure(figsize=(5,5))\n",
    "ax = plt.subplot(221)\n",
    "ax.set_title('approx_row')\n",
    "ax.set_axis_off()\n",
    "rows.plot(ax=ax, column='row', cmap='Blues')\n",
    "ax = plt.subplot(222)\n",
    "ax.set_title('approx_col')\n",
    "ax.set_axis_off()\n",
    "rows.plot(ax=ax, column='column', cmap='Reds')\n",
    "ax = plt.subplot(223)\n",
    "ax.set_title('approx_row')\n",
    "ax.set_axis_off()\n",
    "cols.plot(ax=ax, column='row', cmap='Blues')\n",
    "ax = plt.subplot(224)\n",
    "ax.set_title('approx_col')\n",
    "ax.set_axis_off()\n",
    "cols.plot(ax=ax, column='column', cmap='Reds')\n"
   ]
  },
  {
   "cell_type": "markdown",
   "metadata": {},
   "source": [
    "Notice how the two variables are affected differently by each of the aggregation schemes.  Each of them 'survives' one aggregation pattern, but is completely lost by the other.\n",
    "\n",
    "Clearly, this is a highly artificial case, but the central issue of the **modifiable areal unit problem** is clear: how we aggregate data into polygons affects the patterns we see.  In this case, we have a very clear idea of how the aggregation might be expected to affect the patterns, because we have set the data up to have a very clear spatial structure.  But in general, there is no necessary or obvious prior expectation of the relationship between a set of administrative districts into which we aggregate data (such as zipcode areas, census tracts, police precincts, etc.) and the things we are collating data about (various socio-demographic, cultural or economic characteristics).  \n",
    "\n",
    "Thus, in an import sense, the boundaries we use may often be effectively *arbitrary* relative to the underlying phenomena and hence *patterns* of interest.\n",
    "\n",
    "In fact, this example shows how this effect can work both in our favor and against us.  In our favor, because an aggregation scheme can enhance an underlying pattern, or hide it completely.  However, it is generally more likely that MAUP will work against us, obscuring or confusing underlying patterns, rather than revealing or enhancing them."
   ]
  },
  {
   "cell_type": "markdown",
   "metadata": {},
   "source": [
    "# The assignment\n",
    "I am not going to get into here my own view that the real issue with gerrymandering is the non-proportional election system, which can be resolved in many different ways (as it has been in many other countries).\n",
    "\n",
    "Instead, we are simply going to look at the 2016 Presidential Election, and in particular to consider the ways in which the electoral college interacts with geography. We are going to do this by emulating the concept behind the [Random States of America](http://fakeisthenewreal.org/random-states-of-america/) web page.  (Another nice example with a similar theme is the [Redraw the States](http://kevinhayeswilson.com/redraw/) web page, and the nice examples of work people have done with it that you can find [here](https://medium.com/@khayeswilson/the-best-maps-from-redraw-the-states-538861cc44ed#.dptzw2ci7).)"
   ]
  },
  {
   "cell_type": "markdown",
   "metadata": {},
   "source": [
    "## Data and a couple of maps\n",
    "Let's grab the data we'll be working with. I got these from the aforementioned [Redraw the States](http://kevinhayeswilson.com/redraw/) site. The data are not final certified results, but are fine for our purposes here.\n",
    "\n",
    "Note that any projection information associated with these data are meaningless, as Alaska and Hawaii have been moved, and Alaska rescaled for the map view."
   ]
  },
  {
   "cell_type": "code",
   "execution_count": null,
   "metadata": {
    "collapsed": false
   },
   "outputs": [],
   "source": [
    "election = gpd.read_file('election-map.geojson')\n",
    "election.head()"
   ]
  },
  {
   "cell_type": "markdown",
   "metadata": {},
   "source": [
    "The columns here are as follows\n",
    "* **dem**, **gop**, **grn**, **lib**, **una** and **oth** are the votes cast in each county for the Democratic, Republican, Green, Libertarian, Unaligned (Evan McMullin who ran strongly in Utah), and Other\n",
    "* **population** is the total population of each county\n",
    "* **votes** is the total votes cast\n",
    "* **dempc** and **goppc** are the proportion of total votes cast for the Democratic and Republican preidential candidates\n",
    "* **margin** is the difference between the proportion of votes cast for the Republican candidate and the Democratic candidate. We could consider changing this to the difference between the winning candidate and all others combined, but this is fine for our present purposes\n",
    "* **state** is the state to which the county belongs\n",
    "* **newstate** is a column we will use to assign counties to alternative 'random states'\n",
    "\n",
    "It's worth mapping these to get a feel for things."
   ]
  },
  {
   "cell_type": "code",
   "execution_count": null,
   "metadata": {
    "collapsed": false
   },
   "outputs": [],
   "source": [
    "fig = plt.figure(figsize=(18,9))\n",
    "\n",
    "ax = plt.subplot(121)\n",
    "ax.set_aspect('equal')\n",
    "ax.set_axis_off()\n",
    "ax.set_title('Votes cast, showing importance of cities')\n",
    "\n",
    "## Note how I take square root to make the colors more useful\n",
    "## TRY MAPPING votes instead, to see why\n",
    "election['votes2'] = np.sqrt(election.votes)\n",
    "qp.quickplot(election, column='votes2', cmap='Greys', alpha=1, edgecolor='k', linewidth=0.05)\n",
    "\n",
    "ax = plt.subplot(122)\n",
    "ax.set_aspect('equal')\n",
    "ax.set_axis_off()\n",
    "ax.set_title('Winning margin, proportion')\n",
    "\n",
    "## Note how we draw the D and R wind separately to ensure that 'white' is the low margin cases\n",
    "qp.quickplot(election[election.margin>0], column='margin', cmap='Reds', edgecolor='w', alpha=0.75, linewidth=0.15)\n",
    "qp.quickplot(election[election.margin<=0], column='margin', cmap='Blues', edgecolor='w', alpha=0.75, linewidth=0.15)\n",
    "\n",
    "## we don't need the votes2 column we added, so drop it\n",
    "election.drop('votes2', axis=1, inplace=True)"
   ]
  },
  {
   "cell_type": "markdown",
   "metadata": {},
   "source": [
    "## Making a state election map, using `dissolve`\n",
    "We see a lot of county maps like the ones above, but it's states that matter for the electoral college, and hence for the outcome. \n",
    "\n",
    "In the next cell is a function that will make states from counties, by dissolving them on a specified column in the data. You may need to refer back to the previous session to make complete sense of this.  Note how we have to recalculate the **goppc**, **dempc** and **margin** variables (*WHY?*).  We also add a **win** variable which is helpful later."
   ]
  },
  {
   "cell_type": "code",
   "execution_count": null,
   "metadata": {
    "collapsed": true
   },
   "outputs": [],
   "source": [
    "# Make states from counties data counties, \n",
    "# based on the named state variable provided\n",
    "# using the dissolve function\n",
    "def make_states(counties, state='state'):\n",
    "    states = counties.dissolve(by=state, aggfunc='sum', as_index=False)\n",
    "    # recalculate the proportion-based variables\n",
    "    states.dempc = states.dem / states.votes\n",
    "    states.goppc = states.gop / states.votes\n",
    "    states.margin = states.goppc - states.dempc\n",
    "    # add a variable to flag the winner\n",
    "    # in each state - we'll assume D/R\n",
    "    states['win'] = 'D'\n",
    "    states.loc[states.gop > states.dem, 'win'] = 'R'\n",
    "    return states"
   ]
  },
  {
   "cell_type": "markdown",
   "metadata": {},
   "source": [
    "Let's see this in action for the actual election result."
   ]
  },
  {
   "cell_type": "code",
   "execution_count": null,
   "metadata": {
    "collapsed": false
   },
   "outputs": [],
   "source": [
    "states = make_states(election, state='state')\n",
    "states.head()"
   ]
  },
  {
   "cell_type": "markdown",
   "metadata": {},
   "source": [
    "And now we can make a red state / blue state map"
   ]
  },
  {
   "cell_type": "code",
   "execution_count": null,
   "metadata": {
    "collapsed": false
   },
   "outputs": [],
   "source": [
    "# plot those states\n",
    "fig, ax = plt.subplots(figsize=(10,7))\n",
    "ax.set_aspect('equal')\n",
    "ax.set_axis_off()\n",
    "for p, t in zip(states.geometry, states.state):\n",
    "    ax.annotate(xy=(p.centroid.x-60000, p.centroid.y-30000), s=t, color='w')\n",
    "qp.quickplot(states[states.win=='D'], facecolor='b', alpha=1, edgecolor='w', linewidth=1)\n",
    "qp.quickplot(states[states.win=='R'], facecolor='r', alpha=1, edgecolor='w', linewidth=1)"
   ]
  },
  {
   "cell_type": "markdown",
   "metadata": {},
   "source": [
    "## Random states of America\n",
    "I made a small python module **randomstates** with some functions for making random states. If you are interested in the details take a look inside it from the folder view."
   ]
  },
  {
   "cell_type": "code",
   "execution_count": null,
   "metadata": {
    "collapsed": false
   },
   "outputs": [],
   "source": [
    "import randomstates as rs"
   ]
  },
  {
   "cell_type": "markdown",
   "metadata": {},
   "source": [
    "The `random_states()` function in this module does what we need. Before running it, to speed subsequent iterations up, we make a network or *graph* out of the counties data. You will get a warning about disconnected observations&mdash;this relates to Hawaii and Alaska and is not a problem."
   ]
  },
  {
   "cell_type": "code",
   "execution_count": null,
   "metadata": {
    "collapsed": false
   },
   "outputs": [],
   "source": [
    "G = rs.make_graph(election)"
   ]
  },
  {
   "cell_type": "markdown",
   "metadata": {},
   "source": [
    "You can see what this looks like with the `rs.draw_graph()` function:"
   ]
  },
  {
   "cell_type": "code",
   "execution_count": null,
   "metadata": {
    "collapsed": false
   },
   "outputs": [],
   "source": [
    "rs.draw_graph(election, G)"
   ]
  },
  {
   "cell_type": "markdown",
   "metadata": {},
   "source": [
    "My random states code makes use of this network of neighboring counties to partition the counties into different combinations and make 'random states'.  The network structure is needed so I can make sure the resulting states remain connected and don't fall apart.  Again, if you want to know more, ask me about it, or check out the code of the `randomstates` module in the notebook folder.\n",
    "\n",
    "Now, you simply send the `random_states()` function the `election` GeoDataFrame and associated graph and assign the result to the **newstate** column.  Then you run the `make_states()` function from above, but using the **newstate** variable as the dissolve column."
   ]
  },
  {
   "cell_type": "code",
   "execution_count": null,
   "metadata": {
    "collapsed": false
   },
   "outputs": [],
   "source": [
    "election.newstate = rs.random_states(election, GN=G)\n",
    "states = make_states(election, state='newstate')\n",
    "states"
   ]
  },
  {
   "cell_type": "markdown",
   "metadata": {},
   "source": [
    "Note that Alaska (AK) is unchanged (as is Hawaii, HI), but that the populations and total votes and everything else about these 'newstates' have changed.  We can see this in a map."
   ]
  },
  {
   "cell_type": "code",
   "execution_count": null,
   "metadata": {
    "collapsed": false
   },
   "outputs": [],
   "source": [
    "fig = plt.figure(figsize=(10,7))\n",
    "ax = plt.subplot(111)\n",
    "ax.set_aspect('equal')\n",
    "ax.set_axis_off()\n",
    "for p, t in zip(states.geometry, states.newstate):\n",
    "    ax.annotate(xy=(p.centroid.x-50000, p.centroid.y), s=t, color='k')\n",
    "qp.quickplot(states, column='population', cmap='OrRd', edgecolor='brown', linewidth=0.2)"
   ]
  },
  {
   "cell_type": "markdown",
   "metadata": {},
   "source": [
    "Next, we have to *reapportion* the electoral college, based on these new populations, and determine the election results that would follow.  Apportionment is the process of deciding how many electoral college votes each state (and the District of Columbia) gets, and is described in this [wikipedia article](https://en.wikipedia.org/wiki/United_States_congressional_apportionment)."
   ]
  },
  {
   "cell_type": "code",
   "execution_count": null,
   "metadata": {
    "collapsed": false
   },
   "outputs": [],
   "source": [
    "states['ev'] = rs.apportion(states.population, states.newstate)\n",
    "states"
   ]
  },
  {
   "cell_type": "markdown",
   "metadata": {},
   "source": [
    "With that done, we can see how the same county level results, applied to these different states would have led to an overall electoral college outcome."
   ]
  },
  {
   "cell_type": "code",
   "execution_count": null,
   "metadata": {
    "collapsed": false
   },
   "outputs": [],
   "source": [
    "gop_ev = sum(states.ev[states.win=='R']) \n",
    "dem_ev = sum(states.ev[states.win=='D'])\n",
    "gop_ev, dem_ev"
   ]
  },
  {
   "cell_type": "markdown",
   "metadata": {},
   "source": [
    "Finally we can make a map.  This one will show the counties overlaid with the new random states."
   ]
  },
  {
   "cell_type": "code",
   "execution_count": null,
   "metadata": {
    "collapsed": false
   },
   "outputs": [],
   "source": [
    "fig, ax = plt.subplots(figsize=(16,12))\n",
    "ax.set_aspect('equal')\n",
    "for p, t in zip(states.geometry, states.newstate):\n",
    "    ax.annotate(xy=(p.centroid.x-50000, p.centroid.y-30000), s=t)\n",
    "qp.quickplot(election, column='goppc', cmap='RdBu_r', linewidth=0.1, edgecolor='w', alpha=0.75)\n",
    "qp.quickplot(states, column='margin', cmap='RdBu_r', edgecolor='k', linewidth=1, facecolor='w', alpha=0.5)"
   ]
  },
  {
   "cell_type": "markdown",
   "metadata": {
    "collapsed": true
   },
   "source": [
    "## All in one go\n",
    "That's quite a few steps, but in fact the process to make new random states and determine the resulting electoral outcome is pretty simple."
   ]
  },
  {
   "cell_type": "code",
   "execution_count": null,
   "metadata": {
    "collapsed": false
   },
   "outputs": [],
   "source": [
    "election.newstate = rs.random_states(election, GN=G)\n",
    "states = make_states(election, state='newstate')\n",
    "states['ev'] = rs.apportion(states.population, states.newstate)\n",
    "gop_ev = sum(states.ev[states.win=='R']) \n",
    "dem_ev = sum(states.ev[states.win=='D'])\n",
    "gop_ev, dem_ev"
   ]
  },
  {
   "cell_type": "markdown",
   "metadata": {},
   "source": [
    "And a map"
   ]
  },
  {
   "cell_type": "code",
   "execution_count": null,
   "metadata": {
    "collapsed": false
   },
   "outputs": [],
   "source": [
    "fig, ax = plt.subplots(figsize=(10,7))\n",
    "ax.set_aspect('equal')\n",
    "ax.set_axis_off()\n",
    "for p, t in zip(states.geometry, states.newstate):\n",
    "    ax.annotate(xy=(p.centroid.x-60000, p.centroid.y-30000), s=t, color='w')\n",
    "qp.quickplot(states[states.win=='D'], facecolor='b', alpha=1, edgecolor='w', linewidth=1)\n",
    "qp.quickplot(states[states.win=='R'], facecolor='r', alpha=1, edgecolor='w', linewidth=1)"
   ]
  },
  {
   "cell_type": "markdown",
   "metadata": {},
   "source": [
    "# What you have to do\n",
    "So... what's potentially of interest here is to run the election a lot of times (see the examples referenced in the [blog referenced earlier](http://mike.teczno.com/notes/redistricting.html)), with different state boundaries and see how different the election can get.  That's what I'd like you to do.\n",
    "\n",
    "In the code cell below, write code to run the election with 100 different maps, recording the Republican electoral college vote total each time, and plot a histogram of the results.  \n",
    "\n",
    "I ***highly recommend*** getting the code running with just one iteration before running it 100 times, which will likely take at least a couple of minutes to complete (that's how long it took running locally on my computer&mdash;it may be a bit slower on datahub).\n",
    "\n",
    "I've given you a good start on things."
   ]
  },
  {
   "cell_type": "code",
   "execution_count": null,
   "metadata": {
    "collapsed": false
   },
   "outputs": [],
   "source": [
    "## make an empty list to record the results\n",
    "results = []\n",
    "## you need to run a loop, but to start with\n",
    "## only iterate once, so you don't have to wait too long!\n",
    "for i in range(1):\n",
    "    ## WRITE CODE HERE TO RUN THE ELECTION\n",
    "    ## WITH A RANDOM SET OF STATES\n",
    "    ## \n",
    "    ## put the result in the list\n",
    "    results.append(gop_ev) \n",
    "\n",
    "## Use the plt.hist() function to show the outcome"
   ]
  },
  {
   "cell_type": "markdown",
   "metadata": {},
   "source": [
    "## Questions to answer\n",
    "Double-click in this cell and write your answers to the following questions.  Note that answering these questions might mean going back to the earlier cells that re-run the results to find extreme cases and map them, to get a feel for which kinds of map favor each party the most.\n",
    "\n",
    "### What were the highest and lowest numbers of electoral college votes obtained by the Republican party in your simulation?\n",
    "\n",
    "### Roughly what proportion of the random maps did the Republican pary *lose* (the winning line is 269 electoral college votes)?\n",
    "\n",
    "### Given that the Democratic party had a majority in the popular vote of around 3% what do you make of the electoral college outcomes you have simulated?\n"
   ]
  },
  {
   "cell_type": "code",
   "execution_count": null,
   "metadata": {
    "collapsed": true
   },
   "outputs": [],
   "source": []
  }
 ],
 "metadata": {
  "kernelspec": {
   "display_name": "Python 3",
   "language": "python",
   "name": "python3"
  },
  "language_info": {
   "codemirror_mode": {
    "name": "ipython",
    "version": 3
   },
   "file_extension": ".py",
   "mimetype": "text/x-python",
   "name": "python",
   "nbconvert_exporter": "python",
   "pygments_lexer": "ipython3",
   "version": "3.6.0"
  }
 },
 "nbformat": 4,
 "nbformat_minor": 2
}
